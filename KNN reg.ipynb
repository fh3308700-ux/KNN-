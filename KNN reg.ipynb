{
 "cells": [
  {
   "cell_type": "code",
   "execution_count": 1,
   "id": "d5c82002-7fab-4e20-a6ac-02d59b171fa6",
   "metadata": {},
   "outputs": [],
   "source": [
    "import numpy as np\n",
    "import pandas as pd \n",
    "df = pd.read_csv(r\"C:\\Users\\fh330\\Desktop\\python\\50_Startups (1).csv\")\n"
   ]
  },
  {
   "cell_type": "code",
   "execution_count": 2,
   "id": "f7fd82d5-9d7e-401f-914d-08b5ae8d561c",
   "metadata": {},
   "outputs": [],
   "source": [
    "from sklearn.model_selection import train_test_split\n",
    "x = df.drop(['State','Profit'], axis=1)\n",
    "y = df['Profit']\n",
    "x_train, x_test, y_train, y_test = train_test_split(x, y, test_size=0.2, random_state=42)\n"
   ]
  },
  {
   "cell_type": "code",
   "execution_count": 3,
   "id": "bc52c884-754b-40fa-b2f5-fc04a4c542f3",
   "metadata": {},
   "outputs": [],
   "source": [
    "from sklearn.neighbors import KNeighborsRegressor\n",
    "reg = KNeighborsRegressor()\n"
   ]
  },
  {
   "cell_type": "code",
   "execution_count": 4,
   "id": "36c73ee3-2757-4bd5-b1a6-799b9d9a7c83",
   "metadata": {},
   "outputs": [],
   "source": [
    "reg.fit(x_train, y_train)\n",
    "pred = reg.predict(x_test)\n"
   ]
  },
  {
   "cell_type": "code",
   "execution_count": 5,
   "id": "ff1873ea-a68b-48b2-a95c-8688deac39f9",
   "metadata": {},
   "outputs": [],
   "source": [
    "from sklearn.metrics import mean_squared_error, mean_absolute_error, r2_score\n"
   ]
  },
  {
   "cell_type": "code",
   "execution_count": 6,
   "id": "0193bb32-cb35-4ac5-a45b-df0a062273ea",
   "metadata": {},
   "outputs": [
    {
     "data": {
      "text/plain": [
       "14869.748599999997"
      ]
     },
     "execution_count": 6,
     "metadata": {},
     "output_type": "execute_result"
    }
   ],
   "source": [
    "MAE =  mean_absolute_error(y_test, pred)\n",
    "MAE"
   ]
  },
  {
   "cell_type": "code",
   "execution_count": 7,
   "id": "cb4aec65-2d40-4396-9c62-18204c076cb9",
   "metadata": {},
   "outputs": [
    {
     "data": {
      "text/plain": [
       "570983489.7566228"
      ]
     },
     "execution_count": 7,
     "metadata": {},
     "output_type": "execute_result"
    }
   ],
   "source": [
    "MSE = mean_squared_error(y_test, pred)\n",
    "MSE"
   ]
  },
  {
   "cell_type": "code",
   "execution_count": 8,
   "id": "42ee118a-432b-4388-8052-e625c20bb739",
   "metadata": {},
   "outputs": [
    {
     "data": {
      "text/plain": [
       "0.2949011131337066"
      ]
     },
     "execution_count": 8,
     "metadata": {},
     "output_type": "execute_result"
    }
   ],
   "source": [
    "R2 = r2_score (y_test ,pred)\n",
    "R2"
   ]
  },
  {
   "cell_type": "code",
   "execution_count": 9,
   "id": "4e642d68-e9c7-400a-ad72-05566f648642",
   "metadata": {},
   "outputs": [],
   "source": [
    "import joblib\n"
   ]
  },
  {
   "cell_type": "code",
   "execution_count": 10,
   "id": "24c99f4a-3020-4f84-872f-07718998e07a",
   "metadata": {},
   "outputs": [
    {
     "data": {
      "text/plain": [
       "['knregressor.pkl']"
      ]
     },
     "execution_count": 10,
     "metadata": {},
     "output_type": "execute_result"
    }
   ],
   "source": [
    "joblib.dump(reg, \"knregressor.pkl\")\n"
   ]
  },
  {
   "cell_type": "code",
   "execution_count": 11,
   "id": "a7aa8eae-610b-4c40-b527-fd1d4666e037",
   "metadata": {},
   "outputs": [],
   "source": [
    "model = joblib.load(\"knregressor.pkl\")\n"
   ]
  },
  {
   "cell_type": "code",
   "execution_count": 12,
   "id": "4348c072-0119-49cc-93d8-fd368eba83da",
   "metadata": {},
   "outputs": [],
   "source": [
    "import gradio as gr\n"
   ]
  },
  {
   "cell_type": "code",
   "execution_count": 13,
   "id": "f34e67b5-7080-4967-a5d4-d5796283516c",
   "metadata": {},
   "outputs": [
    {
     "name": "stdout",
     "output_type": "stream",
     "text": [
      "* Running on local URL:  http://127.0.0.1:7884\n",
      "* To create a public link, set `share=True` in `launch()`.\n"
     ]
    },
    {
     "data": {
      "text/html": [
       "<div><iframe src=\"http://127.0.0.1:7884/\" width=\"100%\" height=\"500\" allow=\"autoplay; camera; microphone; clipboard-read; clipboard-write;\" frameborder=\"0\" allowfullscreen></iframe></div>"
      ],
      "text/plain": [
       "<IPython.core.display.HTML object>"
      ]
     },
     "metadata": {},
     "output_type": "display_data"
    },
    {
     "data": {
      "text/plain": []
     },
     "execution_count": 13,
     "metadata": {},
     "output_type": "execute_result"
    }
   ],
   "source": [
    "def predict_class(RnDSpend, Administration, MarketingSpend):\n",
    "    features = np.array([[RnDSpend, Administration, MarketingSpend]])\n",
    "    prediction = model.predict(features)\n",
    "    return f\"{prediction[0]}\"\n",
    "inputs = [\n",
    "    gr.Number(label=\"RnDSpend\"),\n",
    "    gr.Number(label=\"Administration\"),\n",
    "    gr.Number(label=\"MarketingSpend\"),\n",
    "]\n",
    "output = gr.Textbox(label=\"profit\")\n",
    "gr.Interface(fn=predict_class, inputs=inputs, outputs=output, title=\"Profit Predictor\").launch()\n"
   ]
  },
  {
   "cell_type": "code",
   "execution_count": null,
   "id": "62e7b3d9-4849-4abf-92b6-5687aabc2d70",
   "metadata": {},
   "outputs": [],
   "source": []
  }
 ],
 "metadata": {
  "kernelspec": {
   "display_name": "Python [conda env:base] *",
   "language": "python",
   "name": "conda-base-py"
  },
  "language_info": {
   "codemirror_mode": {
    "name": "ipython",
    "version": 3
   },
   "file_extension": ".py",
   "mimetype": "text/x-python",
   "name": "python",
   "nbconvert_exporter": "python",
   "pygments_lexer": "ipython3",
   "version": "3.13.5"
  }
 },
 "nbformat": 4,
 "nbformat_minor": 5
}
